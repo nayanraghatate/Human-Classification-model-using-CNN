{
  "cells": [
    {
      "cell_type": "code",
      "execution_count": null,
      "metadata": {
        "id": "9_3JejSzNj3f"
      },
      "outputs": [],
      "source": [
        "import os\n",
        "import numpy as np\n",
        "import cv2\n",
        "import matplotlib\n",
        "from matplotlib import pyplot as plt\n",
        "%matplotlib inline"
      ]
    },
    {
      "cell_type": "code",
      "execution_count": null,
      "metadata": {
        "id": "RTx_Nn7QNj3o"
      },
      "outputs": [],
      "source": [
        "face_cascade = cv2.CascadeClassifier('./opencv/haarcascades/haarcascade_frontalface_default.xml')\n",
        "eye_cascade = cv2.CascadeClassifier('./opencv/haarcascades/haarcascade_eye.xml')"
      ]
    },
    {
      "cell_type": "code",
      "execution_count": null,
      "metadata": {
        "id": "LeIbdWOfNj3q"
      },
      "outputs": [],
      "source": [
        "path_to_data = \"./Images dataset/\"\n",
        "path_to_cr_data = \"./Images dataset/cropped/\""
      ]
    },
    {
      "cell_type": "code",
      "execution_count": null,
      "metadata": {
        "id": "aXdaZzn4Nj3r"
      },
      "outputs": [],
      "source": [
        "import os\n",
        "img_dirs = []\n",
        "for entry in os.scandir(path_to_data):\n",
        "    if entry.is_dir():\n",
        "        img_dirs.append(entry.path)"
      ]
    },
    {
      "cell_type": "code",
      "execution_count": null,
      "metadata": {
        "id": "KNPjnYW0Nj3s",
        "outputId": "98917e8b-a24d-4c15-92f3-d7a5375531c4"
      },
      "outputs": [
        {
          "data": {
            "text/plain": [
              "['./Images dataset/foreign_female_fair',\n",
              " './Images dataset/foreign_female_mild',\n",
              " './Images dataset/foreign_female_dark',\n",
              " './Images dataset/indian_female_mild',\n",
              " './Images dataset/foreign_male_dark',\n",
              " './Images dataset/indian_female_dark',\n",
              " './Images dataset/indian_male_mild',\n",
              " './Images dataset/indian_female_fair',\n",
              " './Images dataset/cropped',\n",
              " './Images dataset/indian_male_fair',\n",
              " './Images dataset/foreign_male_fair',\n",
              " './Images dataset/indian_male_dark',\n",
              " './Images dataset/foreign_male_mild']"
            ]
          },
          "execution_count": 25,
          "metadata": {},
          "output_type": "execute_result"
        }
      ],
      "source": [
        "img_dirs"
      ]
    },
    {
      "cell_type": "code",
      "execution_count": null,
      "metadata": {
        "id": "CjTNEp0_Nj3v"
      },
      "outputs": [],
      "source": [
        "import shutil\n",
        "if os.path.exists(path_to_cr_data):\n",
        "     shutil.rmtree(path_to_cr_data)\n",
        "os.mkdir(path_to_cr_data)\n"
      ]
    },
    {
      "cell_type": "code",
      "execution_count": null,
      "metadata": {
        "id": "82C8clAhNj3v"
      },
      "outputs": [],
      "source": [
        "def get_cropped_img(image_path):\n",
        "    img = cv2.imread(image_path)\n",
        "    gray = cv2.cvtColor(img, cv2.COLOR_BGR2GRAY)\n",
        "    faces = face_cascade.detectMultiScale(gray, 1.1, 3)\n",
        "    for (x,y,w,h) in faces:\n",
        "        roi_gray = gray[y:y+h, x:x+w]\n",
        "        roi_color = img[y:y+h, x:x+w]\n",
        "        eyes = eye_cascade.detectMultiScale(roi_gray)\n",
        "        if len(eyes) >= 2:\n",
        "            return roi_color"
      ]
    },
    {
      "cell_type": "code",
      "execution_count": null,
      "metadata": {
        "id": "mHWdDGzLNj3w",
        "outputId": "f17b8f2a-c7b0-4259-f1c9-db3157a67304"
      },
      "outputs": [
        {
          "name": "stdout",
          "output_type": "stream",
          "text": [
            "cropped\n",
            "foreign\n",
            "./image(1)/foreign/images (32).jfif\n"
          ]
        },
        {
          "ename": "NameError",
          "evalue": "name 'get_cropped_image_if_2_eyes' is not defined",
          "output_type": "error",
          "traceback": [
            "\u001b[0;31m---------------------------------------------------------------------------\u001b[0m",
            "\u001b[0;31mNameError\u001b[0m                                 Traceback (most recent call last)",
            "\u001b[0;32m<ipython-input-20-5b0af5980acb>\u001b[0m in \u001b[0;36m<module>\u001b[0;34m\u001b[0m\n\u001b[1;32m     11\u001b[0m     \u001b[0;32mfor\u001b[0m \u001b[0mentry\u001b[0m \u001b[0;32min\u001b[0m \u001b[0mos\u001b[0m\u001b[0;34m.\u001b[0m\u001b[0mscandir\u001b[0m\u001b[0;34m(\u001b[0m\u001b[0mimg_dir\u001b[0m\u001b[0;34m)\u001b[0m\u001b[0;34m:\u001b[0m\u001b[0;34m\u001b[0m\u001b[0;34m\u001b[0m\u001b[0m\n\u001b[1;32m     12\u001b[0m         \u001b[0mprint\u001b[0m\u001b[0;34m(\u001b[0m\u001b[0mentry\u001b[0m\u001b[0;34m.\u001b[0m\u001b[0mpath\u001b[0m\u001b[0;34m)\u001b[0m\u001b[0;34m\u001b[0m\u001b[0;34m\u001b[0m\u001b[0m\n\u001b[0;32m---> 13\u001b[0;31m         \u001b[0mroi_color\u001b[0m \u001b[0;34m=\u001b[0m \u001b[0mget_cropped_image_if_2_eyes\u001b[0m\u001b[0;34m(\u001b[0m\u001b[0mentry\u001b[0m\u001b[0;34m.\u001b[0m\u001b[0mpath\u001b[0m\u001b[0;34m)\u001b[0m\u001b[0;34m\u001b[0m\u001b[0;34m\u001b[0m\u001b[0m\n\u001b[0m\u001b[1;32m     14\u001b[0m         \u001b[0;32mif\u001b[0m \u001b[0mroi_color\u001b[0m \u001b[0;32mis\u001b[0m \u001b[0;32mnot\u001b[0m \u001b[0;32mNone\u001b[0m\u001b[0;34m:\u001b[0m\u001b[0;34m\u001b[0m\u001b[0;34m\u001b[0m\u001b[0m\n\u001b[1;32m     15\u001b[0m             \u001b[0mcropped_folder\u001b[0m \u001b[0;34m=\u001b[0m \u001b[0mpath_to_cr_data\u001b[0m \u001b[0;34m+\u001b[0m \u001b[0mcelebrity_name\u001b[0m\u001b[0;34m\u001b[0m\u001b[0;34m\u001b[0m\u001b[0m\n",
            "\u001b[0;31mNameError\u001b[0m: name 'get_cropped_image_if_2_eyes' is not defined"
          ]
        }
      ],
      "source": [
        "cropped_image_dirs = []\n",
        "celebrity_file_names_dict = {}\n",
        "\n",
        "for img_dir in img_dirs:\n",
        "    count = 1\n",
        "    celebrity_name = img_dir.split('/')[-1]\n",
        "    print(celebrity_name)\n",
        "\n",
        "    celebrity_file_names_dict[celebrity_name] = []\n",
        "\n",
        "    for entry in os.scandir(img_dir):\n",
        "        print(entry.path)\n",
        "        roi_color = get_cropped_image_if_2_eyes(entry.path)\n",
        "        if roi_color is not None:\n",
        "            cropped_folder = path_to_cr_data + celebrity_name\n",
        "            if not os.path.exists(cropped_folder):\n",
        "                os.makedirs(cropped_folder)\n",
        "                cropped_image_dirs.append(cropped_folder)\n",
        "                print(\"Generating cropped images in folder: \",cropped_folder)\n",
        "\n",
        "            cropped_file_name = celebrity_name + str(count) + \".png\"\n",
        "            cropped_file_path = cropped_folder + \"/\" + cropped_file_name\n",
        "\n",
        "            cv2.imwrite(cropped_file_path, roi_color)\n",
        "            celebrity_file_names_dict[celebrity_name].append(cropped_file_path)\n",
        "            count += 1"
      ]
    },
    {
      "cell_type": "code",
      "execution_count": null,
      "metadata": {
        "id": "tRsZP1TiNj3y"
      },
      "outputs": [],
      "source": []
    }
  ],
  "metadata": {
    "kernelspec": {
      "display_name": "Python 3",
      "language": "python",
      "name": "python3"
    },
    "language_info": {
      "codemirror_mode": {
        "name": "ipython",
        "version": 3
      },
      "file_extension": ".py",
      "mimetype": "text/x-python",
      "name": "python",
      "nbconvert_exporter": "python",
      "pygments_lexer": "ipython3",
      "version": "3.8.5"
    },
    "colab": {
      "provenance": []
    }
  },
  "nbformat": 4,
  "nbformat_minor": 0
}